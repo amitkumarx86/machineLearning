{
 "cells": [
  {
   "cell_type": "code",
   "execution_count": 91,
   "metadata": {
    "collapsed": false,
    "scrolled": true
   },
   "outputs": [],
   "source": [
    "%matplotlib inline\n",
    "from ipywidgets import widgets\n",
    "from math import sqrt\n",
    "from IPython.display import display\n",
    "from ipywidgets import interact, interactive, fixed, interact_manual\n",
    "import os,glob, dicom, cv2, random, csv\n",
    "import matplotlib.pyplot as plt\n",
    "import numpy as np # linear algebra\n",
    "import pandas as pd # data processing, CSV file I/O (e.g. pd.read_csv) \n",
    "from skimage import measure, morphology, segmentation, filters\n",
    "from skimage.segmentation import clear_border, slic, mark_boundaries\n",
    "from skimage.measure import label,regionprops, perimeter\n",
    "from skimage.morphology import ball, disk, dilation, binary_erosion, remove_small_objects, erosion, closing, reconstruction, binary_closing, watershed\n",
    "from skimage.util import img_as_float\n",
    "from skimage.filters import roberts, sobel\n",
    "from skimage.feature import blob_dog, blob_log, blob_doh\n",
    "import scipy.ndimage as ndi\n",
    "font = cv2.FONT_HERSHEY_SIMPLEX"
   ]
  },
  {
   "cell_type": "code",
   "execution_count": 92,
   "metadata": {
    "collapsed": false,
    "scrolled": true
   },
   "outputs": [],
   "source": [
    "def getSolution(patient):\n",
    "    csvpath = \"../KaggleData/stage1/stage1_solution.csv\"\n",
    "    with open(csvpath) as f:\n",
    "        reader = csv.reader(f)\n",
    "        n=0\n",
    "        for row in reader:\n",
    "            n += 1\n",
    "            if n == patient:\n",
    "                return row[0], row[1]"
   ]
  },
  {
   "cell_type": "code",
   "execution_count": 93,
   "metadata": {
    "collapsed": true,
    "scrolled": true
   },
   "outputs": [],
   "source": [
    "def get_slice_location(dcm):\n",
    "    return float(dcm[0x0020, 0x1041].value)\n",
    "\n",
    "# Returns a list of images for that patient_id, in ascending order of Slice Location\n",
    "def load_patient(patient_id):\n",
    "#     files = glob.glob('./KaggleData/sample_images/{}/*.dcm'.format(patient_id))\n",
    "    files = patient_images\n",
    "    imgs = {}\n",
    "    for f in files:\n",
    "        dcm = dicom.read_file(f)\n",
    "        img = dcm.pixel_array\n",
    "        img[img == -2000] = 0\n",
    "        sl = get_slice_location(dcm)\n",
    "        imgs[sl] = img\n",
    "        \n",
    "    # Not a very elegant way to do this\n",
    "    sorted_imgs = [x[1] for x in sorted(imgs.items(), key=lambda x: x[0])]\n",
    "    return sorted_imgs"
   ]
  },
  {
   "cell_type": "code",
   "execution_count": 94,
   "metadata": {
    "collapsed": true
   },
   "outputs": [],
   "source": [
    "def tr_mask(img):\n",
    "    a = np.array([[263,312],[242,292],[212,241],[236,176],[276,220],[288,256],[263,312]])\n",
    "    im1 = np.ones((img.shape[0], img.shape[1]))\n",
    "    im1 = cv2.fillPoly(im1, [a], 0)\n",
    "    hv = im1 == 0\n",
    "    img[hv] = 0\n",
    "    return img"
   ]
  },
  {
   "cell_type": "code",
   "execution_count": 95,
   "metadata": {
    "collapsed": true
   },
   "outputs": [],
   "source": [
    "def dcm2rgb(image):\n",
    "    image2 = image.copy()\n",
    "    image2[image2 == -2000] = 0\n",
    "    for i in range(image2.shape[0]):\n",
    "        for j in range(image2.shape[1]):\n",
    "            image2[i][j] = np.interp(image2[i][j], [0,2250], [0,225])\n",
    "    image2 = np.uint8(image2)\n",
    "    image2 = cv2.cvtColor(image2, cv2.COLOR_GRAY2BGR)\n",
    "    return image2"
   ]
  },
  {
   "cell_type": "code",
   "execution_count": 96,
   "metadata": {
    "collapsed": true,
    "scrolled": true
   },
   "outputs": [],
   "source": [
    "def segment_lungs(im, viz=False):\n",
    "    im2 = im.copy()\n",
    "    binary = im < 604\n",
    "    \n",
    "    if viz == True:\n",
    "        fig, ax = plt.subplots(8,2, figsize=(20,20))\n",
    "        ax[0][0].imshow(im, cmap='gray')\n",
    "        ax[0][0].set_title(\"CT scan image\")\n",
    "        ax[0][1].imshow(binary, cmap='gray')\n",
    "        ax[0][1].set_title(\"Binary image\")\n",
    "    cleared = clear_border(binary)\n",
    "    \n",
    "    if viz == True:\n",
    "        ax[1][0].imshow(im, cmap='gray')\n",
    "        ax[1][0].set_title(\"CT scan image\")\n",
    "        ax[1][1].imshow(cleared, cmap='gray')\n",
    "        ax[1][1].set_title(\"Image after border is cleared\")\n",
    "    \n",
    "    label_image = label(cleared)\n",
    "    areas = [r.area for r in regionprops(label_image)]\n",
    "    areas.sort()\n",
    "    if len(areas) > 2:\n",
    "        for region in regionprops(label_image):\n",
    "            if region.area < areas[-2]:\n",
    "                for coordinates in region.coords:                \n",
    "                       label_image[coordinates[0], coordinates[1]] = 0\n",
    "    if viz == True:\n",
    "        ax[2][0].imshow(im, cmap='gray')\n",
    "        ax[2][0].set_title(\"CT scan image\")\n",
    "        ax[2][1].imshow(label_image, cmap='gray')\n",
    "        ax[2][1].set_title(\"Image after retaining 2 biggest connected components\")\n",
    "    \n",
    "    binary = label_image > 0\n",
    "    selem = disk(1)\n",
    "    binary = binary_erosion(binary, selem)\n",
    "    \n",
    "    if viz == True:\n",
    "        ax[3][0].imshow(im, cmap='gray')\n",
    "        ax[3][0].set_title(\"CT scan image\")\n",
    "        ax[3][1].imshow(binary, cmap='gray')\n",
    "        ax[3][1].set_title(\"Image after binary erosion\")\n",
    "    \n",
    "    \n",
    "    selem = disk(10)\n",
    "    binary = binary_closing(binary, selem)\n",
    "    edges = roberts(binary)\n",
    "    \n",
    "    if viz == True:\n",
    "        ax[4][0].imshow(im, cmap='gray')\n",
    "        ax[4][0].set_title(\"CT scan image\")\n",
    "        ax[4][1].imshow(edges, cmap='gray')\n",
    "        ax[4][1].set_title(\"Image after roberts edge detection\")\n",
    "    \n",
    "    \n",
    "    binary = ndi.binary_fill_holes(edges)\n",
    "    \n",
    "    if viz == True:\n",
    "        ax[5][0].imshow(im, cmap='gray')\n",
    "        ax[5][0].set_title(\"CT scan image\")\n",
    "        ax[5][1].imshow(binary, cmap='gray')\n",
    "        ax[5][1].set_title(\"Image after filling holes (Mask)\")\n",
    "\n",
    "    \n",
    "    get_high_vals = binary == 0\n",
    "    \n",
    "    \n",
    "    if viz == True:\n",
    "        ax[6][0].imshow(im, cmap='gray')\n",
    "        ax[6][0].set_title(\"CT scan image\")\n",
    "    \n",
    "    im[get_high_vals] = 0 \n",
    "    \n",
    "    if viz == True:\n",
    "        ax[6][1].imshow(im, cmap = 'gray')\n",
    "        ax[6][1].set_title(\"Resulting segmented lung image\")\n",
    "    \n",
    "    im[im <  604] = 0\n",
    "    \n",
    "    \n",
    "    if viz == True:\n",
    "        \n",
    "        ax[7][0].imshow(im2, cmap='gray')\n",
    "        ax[7][0].set_title(\"CT scan image\")\n",
    "        ax[7][1].imshow(im, cmap='gray')\n",
    "        ax[7][1].set_title(\"Image after HU thresholding\")\n",
    "        ax[0][0].axis(\"off\")\n",
    "        ax[0][1].axis(\"off\")\n",
    "        ax[1][0].axis(\"off\")\n",
    "        ax[1][1].axis(\"off\")\n",
    "        ax[2][0].axis(\"off\")\n",
    "        ax[2][1].axis(\"off\")\n",
    "        ax[3][0].axis(\"off\")\n",
    "        ax[3][1].axis(\"off\")\n",
    "        ax[4][0].axis(\"off\")\n",
    "        ax[4][1].axis(\"off\")\n",
    "        ax[5][0].axis(\"off\")\n",
    "        ax[5][1].axis(\"off\")\n",
    "        ax[6][0].axis(\"off\")\n",
    "        ax[6][1].axis(\"off\")\n",
    "        ax[7][0].axis(\"off\")\n",
    "        ax[7][1].axis(\"off\")\n",
    "    return im"
   ]
  },
  {
   "cell_type": "code",
   "execution_count": 97,
   "metadata": {
    "collapsed": true
   },
   "outputs": [],
   "source": [
    "def segment_lung_from_ct_scan(ct_scan):\n",
    "    return np.asarray([segment_lungs(slice) for slice in ct_scan])"
   ]
  },
  {
   "cell_type": "code",
   "execution_count": 98,
   "metadata": {
    "collapsed": true
   },
   "outputs": [],
   "source": [
    "def read_ct_scan(folder_name):\n",
    "        # Read the slices from the dicom file\n",
    "        slices = [dicom.read_file(folder_name + filename) for filename in os.listdir(folder_name)]\n",
    "        \n",
    "        # Sort the dicom slices in their respective order\n",
    "        slices.sort(key=lambda x: int(x.InstanceNumber))\n",
    "        \n",
    "        # Get the pixel values for all the slices\n",
    "        slices = np.stack([s.pixel_array for s in slices])\n",
    "        slices[slices == -2000] = 0\n",
    "        return slices"
   ]
  },
  {
   "cell_type": "code",
   "execution_count": 99,
   "metadata": {
    "collapsed": false
   },
   "outputs": [],
   "source": [
    "def blob_segments_simple(image, scan_image):\n",
    "    image = np.array(image, np.uint8)\n",
    "    dummy_image = np.zeros((image.shape[0], image.shape[1]))\n",
    "    scan_image2 = scan_image.copy()\n",
    "    params = cv2.SimpleBlobDetector_Params()\n",
    "    # Change thresholds\n",
    "    params.minThreshold = 1;\n",
    "    params.maxThreshold = 605;\n",
    "    \n",
    "    # Filter by Area.\n",
    "    params.filterByColor = True\n",
    "    params.blobColor = 255\n",
    "    #params.maxArea =500\n",
    "    \n",
    "    # Filter by Area.\n",
    "    params.filterByArea = True\n",
    "    params.minArea = 30\n",
    "    params.maxArea =150\n",
    "\n",
    "    # Filter by Circularity\n",
    "    params.filterByCircularity = True\n",
    "    params.minCircularity = 0.1\n",
    "\n",
    "#     Filter by Convexity\n",
    "    params.filterByConvexity = True\n",
    "    params.minConvexity = 0.001\n",
    "\n",
    "    # Filter by Inertia\n",
    "    params.filterByInertia = True\n",
    "    params.minInertiaRatio = 0.2\n",
    "    \n",
    "    detector = cv2.SimpleBlobDetector_create(params)\n",
    "    keypoints = detector.detect(image)\n",
    "    n_keypoints = len(keypoints)\n",
    "    \n",
    "    dummy_i = 1\n",
    "    for kpt in keypoints:\n",
    "        scan_image2 = cv2.putText(scan_image2, str(dummy_i), (int(kpt.pt[0])+int(kpt.size),int(kpt.pt[1])),\\\n",
    "                                                            font, 0.5,(255,255,0),2,cv2.LINE_AA)\n",
    "        scan_image2 = cv2.circle(scan_image2, (int(kpt.pt[0]), int(kpt.pt[1])), int(kpt.size//2), color = (255,0,0), thickness =2 )\n",
    "        scan_image = cv2.circle(scan_image, (int(kpt.pt[0]), int(kpt.pt[1])), int(kpt.size//2), color = (255,0,0), thickness =2 )\n",
    "        dummy_image = cv2.circle(dummy_image, (int(kpt.pt[0]), int(kpt.pt[1])), int(kpt.size//2), color = (255,0,0), thickness = -1)\n",
    "        dummy_i += 1\n",
    "        \n",
    "    points = dummy_image == 0\n",
    "    image[points] = 0\n",
    "    return image, dummy_image, scan_image, scan_image2"
   ]
  },
  {
   "cell_type": "code",
   "execution_count": 100,
   "metadata": {
    "collapsed": false
   },
   "outputs": [],
   "source": [
    "def visualize_regionprops(annotated_image, regions):\n",
    "    \n",
    "    fig, ax = plt.subplots(1,2, figsize = [15,15])\n",
    "    fig.suptitle(\"Region properties for patient {0}\".format(patient), fontsize = 18)\n",
    "    \n",
    "    ax[0].imshow(annotated_image, cmap='gray')\n",
    "    ax[0].set_title(\"CT scan image of patient {0}\".format(patient))\n",
    "    ax[0].axis(\"off\")\n",
    "    \n",
    "    if(regions):\n",
    "        lenr = len(regions)*7.5\n",
    "        ax[1].axis([0,180, 0, lenr])\n",
    "        ax[1].set_title(\"Region properties of nodules in the image\")\n",
    "        ax[1].axis(\"off\")\n",
    "        ax[1].text(90, lenr-1, \"Number of nodes in the image: {0}\".format(len(regions)), color='black', fontsize=18, horizontalalignment='center')\n",
    "        j = 2\n",
    "        i = 1\n",
    "        color = [\"black\",\"red\", \"blue\", \"black\", \"green\", \"blue\", \"red\", \"blue\", \"black\", \"green\", \"pink\"]\n",
    "        for region in regions:\n",
    "            ax[1].text(10, lenr-j, \"Nodule {0} area: {1} $pixel^2$\".format(i, region.area), color=color[i], fontsize=14)\n",
    "            ax[1].text(10, lenr-j-1, \"Nodule {0} average eccentricity: {1}\".format(i, region.eccentricity), color=color[i], fontsize=14)\n",
    "            ax[1].text(10, lenr-j-2, \"Nodule {0} average equivalent diameter: {1} pixel\".format(i, region.equivalent_diameter), color=color[i], fontsize=14)\n",
    "            ax[1].text(10, lenr-j-3, \"Nodule {0} extent: {1}\".format(i, region.extent), color=color[i], fontsize=14)\n",
    "            ax[1].text(10, lenr-j-4, \"Nodule {0} weighted X: {1} pixel\".format(i, region.centroid[0]*region.area), color=color[i], fontsize=14)\n",
    "            ax[1].text(10, lenr-j-5, \"Nodule {0} weighted Y: {1} pixel\".format(i, region.centroid[1]*region.area), color=color[i], fontsize=14)\n",
    "            j += 6\n",
    "            i += 1\n",
    "    else:\n",
    "        ax[1].axis([0,20,0,5])\n",
    "#         ax[1].axis(\"off\")\n",
    "        ax[1].text(1,5, \"There are no nodules in the image\", color = \"red\", fontsize = 20)\n",
    "    plt.show()"
   ]
  },
  {
   "cell_type": "code",
   "execution_count": 101,
   "metadata": {
    "collapsed": true
   },
   "outputs": [],
   "source": [
    "def visualize_axial(id):\n",
    "    \n",
    "    id = id + num_scans//4\n",
    "    plt.close('all')\n",
    "    fig, ax = plt.subplots(1,1)\n",
    "    \n",
    "    ax.imshow(ct_scan[id], cmap = plt.cm.bone)\n",
    "    ax.set_title(\"Axial View of Patient: {0} CT slice number {1}/{2}\".format(patient, id, num_scans))\n",
    "    \n",
    "    ax.axis('off')\n",
    "    plt.show()"
   ]
  },
  {
   "cell_type": "code",
   "execution_count": 102,
   "metadata": {
    "collapsed": true
   },
   "outputs": [],
   "source": [
    "def visualize_saggital(id):\n",
    "    \n",
    "    id = id + 512//4\n",
    "    plt.close('all')\n",
    "    fig, ax = plt.subplots(1,1, figsize = (10,10))\n",
    "    \n",
    "    ax.imshow(ct_scan[:,:,id], cmap = plt.cm.bone)\n",
    "    ax.set_title(\"Saggital View of Patient: {0} CT slice number {1}/{2}\".format(patient, id, 512))  \n",
    "    \n",
    "    ax.axis('off')\n",
    "    plt.show()"
   ]
  },
  {
   "cell_type": "code",
   "execution_count": 103,
   "metadata": {
    "collapsed": true
   },
   "outputs": [],
   "source": [
    "def visualize_coronal(id):\n",
    "\n",
    "    id = id + 512//4\n",
    "    plt.close('all')\n",
    "    fig, ax = plt.subplots(1,1, figsize = (10,10))\n",
    "    \n",
    "    ax.imshow(ct_scan[:,id,:], cmap = plt.cm.bone)\n",
    "    ax.set_title(\"Coronal View of Patient: {0} CT slice number {1}/{2}\".format(patient, id, 512))  \n",
    "    \n",
    "    ax.axis('off')\n",
    "    plt.show()"
   ]
  },
  {
   "cell_type": "code",
   "execution_count": 104,
   "metadata": {
    "collapsed": false,
    "scrolled": true
   },
   "outputs": [],
   "source": [
    "def dynamic_viz_temp(id):\n",
    "    global idx\n",
    "    plt.close('all')\n",
    "#     id = int(input_text.value)\n",
    "    id = id + len(ct_scan)//4\n",
    "    image = ct_scan[id]\n",
    "    image2 = image.copy()\n",
    "    image2 = tr_mask(image2)\n",
    "    image_seg = segment_lungs(image2)\n",
    "    \n",
    "    image_seg2 = image_seg.copy()\n",
    "    \n",
    "    image_nob, label_image, image_annotated, image_nob_numbered = blob_segments_simple(image_seg2, dcm2rgb(image.copy()))\n",
    "    \n",
    "    \n",
    "#     labeled_image = label(label_image)\n",
    "#     regions = regionprops(labeled_image, image_nob, cache=True) \n",
    "#     if(regions):\n",
    "#         visualize_regionprops(image_nob_numbered, regions)\n",
    "#     else:\n",
    "#         visualize_regionprops(image_nob_numbered, 0)\n",
    "    \n",
    "    \n",
    "#     fig, ax = plt.subplots(2,2, figsize = [20,20])\n",
    "#     fig.suptitle(\"Segmentation process for patient {0}\".format(patient), fontsize = 18)\n",
    "#     ax[0,0].imshow(image, cmap='gray')\n",
    "#     ax[0,0].set_title(\"CT scan image of patient {0}\".format(patient))\n",
    "    \n",
    "#     ax[0,1].imshow(image_seg, cmap=plt.cm.bone)\n",
    "#     ax[0,1].set_title(\"Segmented lung image\")\n",
    "    \n",
    "#     ax[1,0].imshow(label_image, cmap=plt.cm.bone)\n",
    "#     ax[1,0].set_title(\"Segmented label image of each nodules\")\n",
    "    \n",
    "#     ax[1,1].imshow(image_nob_numbered, cmap=plt.cm.bone)\n",
    "#     ax[1,1].set_title(\"Annotated image with nodules\")\n",
    "# #     plt.savefig(\"{0}_{1}.png\".format(patient, id))\n",
    "#     plt.show()"
   ]
  },
  {
   "cell_type": "code",
   "execution_count": 105,
   "metadata": {
    "collapsed": true
   },
   "outputs": [],
   "source": [
    "def plot_ct_scan(scan):\n",
    "    f, plots = plt.subplots(int(scan.shape[0] / 20) + 1, 4, figsize=(25, 25))\n",
    "    for i in range(0, scan.shape[0], 5):\n",
    "        plots[int(i / 20), int((i % 20) / 5)].axis('off')\n",
    "        plots[int(i / 20), int((i % 20) / 5)].imshow(scan[i], cmap=plt.cm.bone) "
   ]
  },
  {
   "cell_type": "code",
   "execution_count": 106,
   "metadata": {
    "collapsed": false,
    "scrolled": false
   },
   "outputs": [],
   "source": [
    "image_folder = \"../KaggleData/stage1/data/stage1/\"\n",
    "patients = os.listdir(image_folder)\n",
    "randN = random.randint(0, 199)\n",
    "patient, cancer_label = getSolution(randN)\n",
    "patient, cancer_label = \"e9a27e2645e1fad9434ce765f678585f\", 1\n",
    " \n",
    "ct_scan = read_ct_scan(image_folder+patient+\"/\")\n",
    "num_scans = len(ct_scan)\n",
    "annotated_images = []\n",
    "\n",
    "save_fig = False\n",
    "idx = len(ct_scan)//4"
   ]
  },
  {
   "cell_type": "code",
   "execution_count": 107,
   "metadata": {
    "collapsed": true
   },
   "outputs": [],
   "source": [
    "def on_button_clicked(b):\n",
    "    global save_fig\n",
    "    save_fig = True\n",
    "    plt.savefig(\"{0}_{1}.png\".format(patient, id))\n",
    "    print(\"Saving figure\")"
   ]
  },
  {
   "cell_type": "code",
   "execution_count": 108,
   "metadata": {
    "collapsed": false,
    "scrolled": false
   },
   "outputs": [
    {
     "data": {
      "image/png": "[encoded data removed]",
      "text/plain": [
       "<matplotlib.figure.Figure at 0x7fc42c15deb8>"
      ]
     },
     "metadata": {},
     "output_type": "display_data"
    },
    {
     "data": {
      "text/plain": [
       "<function __main__.visualize_axial>"
      ]
     },
     "execution_count": 108,
     "metadata": {},
     "output_type": "execute_result"
    }
   ],
   "source": [
    "# interact(dynamic_viz_temp, id=len(ct_scan)//4)\n",
    "interact(visualize_axial, id=len(ct_scan)//4)\n",
    "# interact(visualize_coronal, id=512//4)\n",
    "# interact(visualize_saggital, id=512//4)\n",
    "# button = widgets.Button(description = \"Save figure\")\n",
    "# display(button)\n",
    "# button.on_click(on_button_clicked)"
   ]
  }
 ],
 "metadata": {
  "kernelspec": {
   "display_name": "Python 3",
   "language": "python",
   "name": "python3"
  },
  "language_info": {
   "codemirror_mode": {
    "name": "ipython",
    "version": 3
   },
   "file_extension": ".py",
   "mimetype": "text/x-python",
   "name": "python",
   "nbconvert_exporter": "python",
   "pygments_lexer": "ipython3",
   "version": "3.6.0"
  },
  "widgets": {
   "state": {
    "44d193ece2e54ceba593993e913ac9d6": {
     "views": [
      {
       "cell_index": 17
      }
     ]
    }
   },
   "version": "1.2.0"
  }
 },
 "nbformat": 4,
 "nbformat_minor": 2
}
