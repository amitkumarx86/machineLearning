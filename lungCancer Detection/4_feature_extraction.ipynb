{
 "cells": [
  {
   "cell_type": "code",
   "execution_count": null,
   "metadata": {
    "collapsed": true,
    "scrolled": true
   },
   "outputs": [],
   "source": [
    "%matplotlib inline\n",
    "from ipywidgets import widgets\n",
    "from math import sqrt\n",
    "from IPython.display import display\n",
    "from ipywidgets import interact, interactive, fixed, interact_manual\n",
    "import os,glob, dicom, cv2, random, csv\n",
    "import matplotlib.pyplot as plt\n",
    "import numpy as np # linear algebra\n",
    "import pandas as pd # data processing, CSV file I/O (e.g. pd.read_csv) \n",
    "from skimage import measure, morphology, segmentation, filters\n",
    "from skimage.segmentation import clear_border, slic, mark_boundaries\n",
    "from skimage.measure import label,regionprops, perimeter\n",
    "from skimage.morphology import ball, disk, dilation, binary_erosion, remove_small_objects, erosion, closing, reconstruction, binary_closing, watershed\n",
    "from skimage.util import img_as_float\n",
    "from skimage.filters import roberts, sobel\n",
    "from skimage.feature import blob_dog, blob_log, blob_doh\n",
    "import scipy.ndimage as ndi\n",
    "from PIL import Image\n",
    "import pickle"
   ]
  },
  {
   "cell_type": "markdown",
   "metadata": {},
   "source": [
    "<h2> This function takes an id and returns patient ID and cancer label (0/1) </h2>"
   ]
  },
  {
   "cell_type": "code",
   "execution_count": null,
   "metadata": {
    "collapsed": false,
    "scrolled": true
   },
   "outputs": [],
   "source": [
    "def getSolution(id):\n",
    "    csvpath = \"./KaggleData/stage1/stage1_solution.csv\"\n",
    "    with open(csvpath) as f:\n",
    "        reader = csv.reader(f)\n",
    "        i = 0\n",
    "        for row in reader:\n",
    "            if i == id:\n",
    "                return row[0], row[1]\n",
    "            i += 1"
   ]
  },
  {
   "cell_type": "markdown",
   "metadata": {},
   "source": [
    "<h2> Get slice location and load all the slices of images of a particular patient </h2>"
   ]
  },
  {
   "cell_type": "code",
   "execution_count": null,
   "metadata": {
    "collapsed": true,
    "scrolled": true
   },
   "outputs": [],
   "source": [
    "def get_slice_location(dcm):\n",
    "    return float(dcm[0x0020, 0x1041].value)\n",
    "\n",
    "# Returns a list of images for that patient_id, in ascending order of Slice Location\n",
    "def load_patient(patient_images):\n",
    "    imgs = []\n",
    "    for image in patient_images:\n",
    "        ds = dicom.read_file(image)\n",
    "        imgs.append(ds)\n",
    "    imgs.sort(key = lambda x: int(x.InstanceNumber))\n",
    "    full_img = np.stack([s.pixel_array for s in imgs])\n",
    "    return full_img    "
   ]
  },
  {
   "cell_type": "markdown",
   "metadata": {},
   "source": [
    "<h2> Iterate over all images, segment them and save them to disk </h2>"
   ]
  },
  {
   "cell_type": "code",
   "execution_count": null,
   "metadata": {
    "collapsed": true
   },
   "outputs": [],
   "source": [
    "def save_images(patient_images):\n",
    "    n_images = len(patient_images)\n",
    "    for id in range(0, n_images-1):\n",
    "        image = patient_images[id]\n",
    "        image2 = image.copy()\n",
    "        #Segment CT image to get lung part\n",
    "        image_seg = segment_lungs(image2)\n",
    "        #HU thresholding\n",
    "        image_seg[image_seg <  604] = 0\n",
    "        image_seg2 = image_seg.copy()\n",
    "        #Blob analysis to get candidate nodules\n",
    "        image_nob,image_nob2, n_keypoints = blob_segments_simple(image_seg2, dcm2rgb(image.copy()))\n",
    "        \n",
    "        \n",
    "        image_nob = cv2.cvtColor(image_nob, cv2.COLOR_BGR2RGB)\n",
    "        print(\"File = {0}/{1} : Number of blobs = {2}\".format(id, n_images, n_keypoints))\n",
    "        if(n_keypoints > 0):\n",
    "            file_name = output_folder+patient+str(id)+\".jpeg\"\n",
    "            print(\"Saved:\", file_name)\n",
    "            cv2.imwrite(file_name, image_nob)"
   ]
  },
  {
   "cell_type": "markdown",
   "metadata": {},
   "source": [
    "<h2> Convert .dicom file pixel_array to RGB format </h2>"
   ]
  },
  {
   "cell_type": "code",
   "execution_count": null,
   "metadata": {
    "collapsed": true
   },
   "outputs": [],
   "source": [
    "def dcm2rgb(image):\n",
    "    image2 = image.copy()\n",
    "    image2[image2 == -2000] = 0\n",
    "    for i in range(image2.shape[0]):\n",
    "        for j in range(image2.shape[1]):\n",
    "            image2[i][j] = np.interp(image2[i][j], [0,2250], [0,225])\n",
    "    image2 = np.uint8(image2)\n",
    "    image2 = cv2.cvtColor(image2, cv2.COLOR_GRAY2BGR)\n",
    "    return image2"
   ]
  },
  {
   "cell_type": "markdown",
   "metadata": {},
   "source": [
    "<h2> Create a mask that can filter out noise in some images (due to segmentation fault) </h2>"
   ]
  },
  {
   "cell_type": "code",
   "execution_count": null,
   "metadata": {
    "collapsed": true
   },
   "outputs": [],
   "source": [
    "def tr_mask(img):\n",
    "    a = np.array([[263,312],[242,292],[212,241],[236,176],[276,220],[288,256],[263,312]])\n",
    "    im1 = np.ones((img.shape[0], img.shape[1]))\n",
    "    im1 = cv2.fillPoly(im1, [a], 0)\n",
    "    hv = im1 == 0\n",
    "    img[hv] = 0\n",
    "    return img"
   ]
  },
  {
   "cell_type": "markdown",
   "metadata": {},
   "source": [
    "<h2> Segment an image to get lung part </h2>"
   ]
  },
  {
   "cell_type": "code",
   "execution_count": null,
   "metadata": {
    "collapsed": true,
    "scrolled": true
   },
   "outputs": [],
   "source": [
    "def segment_lungs(im, plot=False):\n",
    "    binary = im < 604\n",
    "    cleared = clear_border(binary)\n",
    "    label_image = label(cleared)\n",
    "    areas = [r.area for r in regionprops(label_image)]\n",
    "    areas.sort()\n",
    "    if len(areas) > 2:\n",
    "        for region in regionprops(label_image):\n",
    "            if region.area < areas[-2]:\n",
    "                for coordinates in region.coords:                \n",
    "                       label_image[coordinates[0], coordinates[1]] = 0\n",
    "    binary = label_image > 0\n",
    "    selem = disk(1)\n",
    "    binary = binary_erosion(binary, selem)\n",
    "    selem = disk(10)\n",
    "    binary = binary_closing(binary, selem)\n",
    "    edges = roberts(binary)\n",
    "    binary = ndi.binary_fill_holes(edges)\n",
    "    get_high_vals = binary == 0\n",
    "    im[get_high_vals] = 0        \n",
    "    return im"
   ]
  },
  {
   "cell_type": "markdown",
   "metadata": {},
   "source": [
    "<h2> Blob analysis to get candidate nodules </h2>"
   ]
  },
  {
   "cell_type": "code",
   "execution_count": null,
   "metadata": {
    "collapsed": false
   },
   "outputs": [],
   "source": [
    "def blob_segments_simple(image, scan_image):\n",
    "    image = np.array(image, np.uint8)\n",
    "    dummy_image = np.zeros((image.shape[0], image.shape[1]))\n",
    "    params = cv2.SimpleBlobDetector_Params()\n",
    "    # Change thresholds\n",
    "    params.minThreshold = 1;\n",
    "    params.maxThreshold = 605;\n",
    "    \n",
    "    # Filter by Area.\n",
    "    params.filterByColor = True\n",
    "    params.blobColor = 255\n",
    "    #params.maxArea =500\n",
    "    \n",
    "    # Filter by Area.\n",
    "    params.filterByArea = True\n",
    "    params.minArea = 30\n",
    "    params.maxArea =150\n",
    "\n",
    "    # Filter by Circularity\n",
    "    params.filterByCircularity = True\n",
    "    params.minCircularity = 0.1\n",
    "\n",
    "#     Filter by Convexity\n",
    "    params.filterByConvexity = True\n",
    "    params.minConvexity = 0.001\n",
    "\n",
    "    # Filter by Inertia\n",
    "    params.filterByInertia = True\n",
    "    params.minInertiaRatio = 0.2\n",
    "    \n",
    "    detector = cv2.SimpleBlobDetector_create(params)\n",
    "    keypoints = detector.detect(image)\n",
    "    n_keypoints = len(keypoints)\n",
    "    \n",
    "    for kpt in keypoints:\n",
    "        dummy_image = cv2.circle(dummy_image, (int(kpt.pt[0]), int(kpt.pt[1])), int(kpt.size//2), color = (255,255,255), thickness = -1)\n",
    "\n",
    "    points = dummy_image == 0\n",
    "    image[points] = 0\n",
    "    return image, dummy_image\n"
   ]
  },
  {
   "cell_type": "markdown",
   "metadata": {},
   "source": [
    "<h2> Interactive visualization of the segmentation process </h2>"
   ]
  },
  {
   "cell_type": "code",
   "execution_count": null,
   "metadata": {
    "collapsed": true
   },
   "outputs": [],
   "source": [
    "def dynamic_viz_temp(id):\n",
    "    plt.close('all')\n",
    "#     id = int(input_text.value)\n",
    "    id = id + len(patient_images)//4\n",
    "    image = patient_images[id]\n",
    "    print(image.shape)\n",
    "    image2 = image.copy()\n",
    "    image2 = tr_mask(image2)\n",
    "    image_seg = segment_lungs(image2)\n",
    "    image_seg[image_seg <  604] = 0\n",
    "    \n",
    "    image_seg2 = image_seg.copy()\n",
    "    \n",
    "    image_nob, label_image = blob_segments_simple(image_seg2, dcm2rgb(image.copy()))\n",
    "    get_region_props(image_nob, label_image)\n",
    "    \n",
    "#     fig, ax = plt.subplots(2,2, figsize = [20,20])\n",
    "#     ax[0,0].imshow(image, cmap='gray')\n",
    "#     ax[0,1].imshow(image_seg, cmap=plt.cm.bone)\n",
    "#     ax[1,0].imshow(image_seg2, cmap='viridis')\n",
    "#     ax[1,1].imshow(image_nob, cmap=plt.cm.bone)\n",
    "#     plt.show()"
   ]
  },
  {
   "cell_type": "markdown",
   "metadata": {},
   "source": [
    "<h2> Compute feature vector given a list of images of a patient </h2>"
   ]
  },
  {
   "cell_type": "code",
   "execution_count": null,
   "metadata": {
    "collapsed": false
   },
   "outputs": [],
   "source": [
    "def compute_feature_vector(patient_images):\n",
    "    fv = []\n",
    "    n_slices = patient_images.shape[0]\n",
    "    total_area = 1\n",
    "    avg_area = 1\n",
    "    max_area = 1\n",
    "    avg_eccentricity = 0\n",
    "    avg_equivalent_diameter = 0\n",
    "    std_equivalent_diameter = 0\n",
    "    total_extent = 0 \n",
    "    weightedX = 0.\n",
    "    weightedY = 0.\n",
    "    num_nodes = 1.\n",
    "    num_nodes_per_slice = 1.\n",
    "    \n",
    "    areas = []\n",
    "    eqi_diams = []\n",
    "    image_id = 1\n",
    "    \n",
    "    for image in patient_images:\n",
    "        print(\"{2}Image {0}/{1}\".format(image_id, n_slices, patient))\n",
    "        image_id += 1\n",
    "        image2 = image.copy()\n",
    "        image2 = tr_mask(image2)\n",
    "        image_seg = segment_lungs(image2)\n",
    "        image_seg[image_seg <  604] = 0\n",
    "        image_seg2 = image_seg.copy()\n",
    "        image_nob, label_image = blob_segments_simple(image_seg2, dcm2rgb(image.copy()))\n",
    "        labeled_image = label(label_image)\n",
    "        regions = regionprops(labeled_image, image_nob, cache=True) \n",
    "        for rp in regions:\n",
    "            total_area += rp.area\n",
    "            areas.append(rp.area)\n",
    "            avg_eccentricity += rp.eccentricity\n",
    "            avg_equivalent_diameter += rp.equivalent_diameter\n",
    "            eqi_diams.append(rp.equivalent_diameter)\n",
    "            total_extent += rp.extent\n",
    "            weightedX += rp.centroid[0]*rp.area\n",
    "            weightedY += rp.centroid[1]*rp.area\n",
    "            num_nodes += 1\n",
    "    weightedX = weightedX / total_area\n",
    "    weightedY = weightedY / total_area\n",
    "    avg_area = total_area / num_nodes\n",
    "    avg_eccentricity = avg_eccentricity / num_nodes\n",
    "    avg_equivalent_diameter = avg_equivalent_diameter / num_nodes\n",
    "    std_equivalent_diameter = np.std(eqi_diams)\n",
    "    max_area = max(areas)\n",
    "    num_nodes_per_slice = num_nodes * 1. / n_slices\n",
    "    return np.array([avg_area, max_area, avg_eccentricity, avg_equivalent_diameter, std_equivalent_diameter, \\\n",
    "                     total_extent, weightedX, weightedY, num_nodes, num_nodes_per_slice])"
   ]
  },
  {
   "cell_type": "markdown",
   "metadata": {},
   "source": [
    "<h2> Main Code </h2>"
   ]
  },
  {
   "cell_type": "code",
   "execution_count": null,
   "metadata": {
    "collapsed": false,
    "scrolled": false
   },
   "outputs": [],
   "source": [
    "image_folder = \"./KaggleData/stage1/data/stage1/\"\n",
    "output_folder = \"./KaggleData/stage1/data/output/\"\n",
    "patients = os.listdir(image_folder)\n",
    "randN = random.randint(0, 199)\n",
    "for i in range(1,199):\n",
    "    patient, cancer_label = getSolution(i)\n",
    "    print(\"**************************Computing features for patient: {0}. Remaining: {1}/2 **************************\".format(patient, i, 198))\n",
    "    patient_images = os.listdir(image_folder+patient+\"/\")\n",
    "    patient_images = [image_folder+patient+\"/\"+image for image in patient_images]\n",
    "    patient_images = load_patient(patient_images)\n",
    "    dataX = compute_feature_vector(patient_images)\n",
    "    dataY = int(cancer_label)\n",
    "    np.save(output_folder+patient+\"dataX.npy\", dataX)\n",
    "    np.save(output_folder+patient+\"dataY.npy\", dataY)"
   ]
  }
 ],
 "metadata": {
  "kernelspec": {
   "display_name": "Python 3",
   "language": "python",
   "name": "python3"
  },
  "language_info": {
   "codemirror_mode": {
    "name": "ipython",
    "version": 3
   },
   "file_extension": ".py",
   "mimetype": "text/x-python",
   "name": "python",
   "nbconvert_exporter": "python",
   "pygments_lexer": "ipython3",
   "version": "3.6.0"
  }
 },
 "nbformat": 4,
 "nbformat_minor": 2
}
