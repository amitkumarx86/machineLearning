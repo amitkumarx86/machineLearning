{
 "cells": [
  {
   "cell_type": "code",
   "execution_count": 3,
   "metadata": {
    "collapsed": false
   },
   "outputs": [],
   "source": [
    "from sklearn import cross_validation\n",
    "from sklearn.cross_validation import StratifiedKFold as KFold\n",
    "from sklearn.metrics import classification_report\n",
    "from sklearn.ensemble import RandomForestClassifier as RF\n",
    "import xgboost as xgb\n",
    "import os, pickle\n",
    "import numpy as np"
   ]
  },
  {
   "cell_type": "code",
   "execution_count": 4,
   "metadata": {
    "collapsed": false
   },
   "outputs": [
    {
     "name": "stdout",
     "output_type": "stream",
     "text": [
      "181\n"
     ]
    }
   ],
   "source": [
    "data_folder = \"../tr_data/\"\n",
    "data_files = os.listdir(data_folder)\n",
    "dataX_files = [file for file in data_files if \"dataX\" in file]\n",
    "dataY_files = [file for file in data_files if \"dataY\" in file]\n",
    "dataX = np.load(data_folder+dataX_files[0])\n",
    "dataY = np.load(data_folder+dataY_files[0])\n",
    "for file in dataX_files[1:]:\n",
    "    dataX = np.vstack((dataX, np.load(data_folder+file)))\n",
    "for file in dataY_files[1:]:\n",
    "    dataY = np.vstack((dataY, np.load(data_folder+file)))\n",
    "print(len(dataX))\n",
    "pickle.dump(dataX, open(data_folder+\"output/\"+\"dataX_final.pkl\", \"wb\"))\n",
    "pickle.dump(dataY, open(data_folder+\"output/\"+\"dataY_final.pkl\", \"wb\"))"
   ]
  },
  {
   "cell_type": "code",
   "execution_count": 5,
   "metadata": {
    "collapsed": false
   },
   "outputs": [],
   "source": [
    "c = pickle.load(open(data_folder+\"output/\"+\"dataX_final.pkl\", \"rb\"))\n",
    "d = pickle.load(open(data_folder+\"output/\"+\"dataY_final.pkl\", \"rb\"))"
   ]
  },
  {
   "cell_type": "code",
   "execution_count": 7,
   "metadata": {
    "collapsed": false
   },
   "outputs": [
    {
     "name": "stdout",
     "output_type": "stream",
     "text": [
      "(181, 10)\n"
     ]
    }
   ],
   "source": [
    "print(c.shape)"
   ]
  },
  {
   "cell_type": "code",
   "execution_count": 6,
   "metadata": {
    "collapsed": false
   },
   "outputs": [],
   "source": [
    "# def load_data():\n",
    "#     data_folder = \"./tr_data/\"\n",
    "#     dataX = pickle.load(open(data_folder+\"dataX.pkl\", \"rb\"))\n",
    "#     dataY_temp = pickle.load(open(data_folder+\"dataY.pkl\", \"rb\"))\n",
    "#     dataY = []\n",
    "#     for data in dataY_temp:\n",
    "#         dataY.append(data[0])\n",
    "#     return dataX, dataY\n",
    "# load_data()"
   ]
  }
 ],
 "metadata": {
  "kernelspec": {
   "display_name": "Python 3",
   "language": "python",
   "name": "python3"
  },
  "language_info": {
   "codemirror_mode": {
    "name": "ipython",
    "version": 3
   },
   "file_extension": ".py",
   "mimetype": "text/x-python",
   "name": "python",
   "nbconvert_exporter": "python",
   "pygments_lexer": "ipython3",
   "version": "3.6.0"
  }
 },
 "nbformat": 4,
 "nbformat_minor": 2
}
