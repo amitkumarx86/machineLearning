{
 "cells": [
  {
   "cell_type": "code",
   "execution_count": 4,
   "metadata": {
    "collapsed": false,
    "deletable": true,
    "editable": true
   },
   "outputs": [
    {
     "name": "stdout",
     "output_type": "stream",
     "text": [
      "Imporing quandl data from net\n",
      "            Adj. Close    HL_PCT  PCT_change  Adj. Volume\n",
      "Date                                                     \n",
      "2004-08-19   50.322842  3.712563    0.324968   44659000.0\n",
      "2004-08-20   54.322689  0.710922    7.227007   22834300.0\n",
      "2004-08-23   54.869377  3.729433   -1.227880   18256100.0\n",
      "2004-08-24   52.597363  6.417469   -5.726357   15247300.0\n",
      "2004-08-25   53.164113  1.886792    1.183658    9188600.0\n"
     ]
    }
   ],
   "source": [
    "import pandas as pd\n",
    "import quandl\n",
    "\n",
    "print \"Imporing quandl data from net\"\n",
    "df = quandl.get('WIKI/GOOGL')\n",
    "\n",
    "df = df[['Adj. Open','Adj. High', 'Adj. Low', 'Adj. Close','Adj. Volume']]\n",
    "\n",
    "# define special relationship which will give some intuition about the data\n",
    "\n",
    "df['HL_PCT'] = (df['Adj. High'] - df['Adj. Close'])/ df['Adj. Close'] * 100\n",
    "df['PCT_change'] = (df['Adj. Close'] - df['Adj. Open'])/ df['Adj. Open'] * 100\n",
    "\n",
    "df = df[['Adj. Close', 'HL_PCT', 'PCT_change','Adj. Volume']]\n",
    "\n",
    "# try to define a label\n",
    "\n",
    "forecast_col = 'Adj. Close'\n",
    "\n",
    "# in machine learning we cannot use nan data and we can replace the data with some value\n",
    "df.fillna(-9999, inplace=True)\n",
    "\n",
    "print df.head()\n"
   ]
  },
  {
   "cell_type": "code",
   "execution_count": 8,
   "metadata": {
    "collapsed": false,
    "deletable": true,
    "editable": true
   },
   "outputs": [
    {
     "name": "stdout",
     "output_type": "stream",
     "text": [
      "            Adj. Close    HL_PCT  PCT_change  Adj. Volume      label\n",
      "Date                                                                \n",
      "2004-08-19   50.322842  3.712563    0.324968   44659000.0  68.752232\n",
      "2004-08-20   54.322689  0.710922    7.227007   22834300.0  69.639972\n",
      "2004-08-23   54.869377  3.729433   -1.227880   18256100.0  69.078238\n",
      "2004-08-24   52.597363  6.417469   -5.726357   15247300.0  67.839414\n",
      "2004-08-25   53.164113  1.886792    1.183658    9188600.0  68.912727\n"
     ]
    }
   ],
   "source": [
    "import math\n",
    "\n",
    "# we have defined lable\n",
    "forecast_out = int(math.ceil(0.01*len(df)))\n",
    "df['label'] = df[forecast_col].shift(-forecast_out)\n",
    "df.dropna(inplace=True)\n",
    "print df.head()\n",
    "\n"
   ]
  },
  {
   "cell_type": "code",
   "execution_count": 21,
   "metadata": {
    "collapsed": false
   },
   "outputs": [
    {
     "name": "stdout",
     "output_type": "stream",
     "text": [
      "0.974292752213\n",
      "0.756255649264\n"
     ]
    }
   ],
   "source": [
    "import numpy as np # python dnt have arrays\n",
    "from sklearn import preprocessing # we need scaling on features to be between -1 to 1\n",
    "from sklearn import cross_validation, svm\n",
    "from sklearn.linear_model import LinearRegression\n",
    "from sklearn.model_selection import train_test_split\n",
    "\n",
    "X = np.array(df.drop(['label'],1))\n",
    "y = np.array(df['label'])\n",
    "\n",
    "\n",
    "# scale x, for streaming data we have to scale this along with all the data\n",
    "X = preprocessing.scale(X)\n",
    "X_train, X_test, y_train, y_test = train_test_split(X, y, test_size=0.4, random_state=0)\n",
    "\n",
    "# call the classifier\n",
    "clf = LinearRegression(n_jobs = -1)\n",
    "clf.fit(X_train, y_train)\n",
    "\n",
    "# get the score\n",
    "accuracy = clf.score(X_test,y_test)\n",
    "\n",
    "print accuracy\n",
    "\n",
    "# lets use svm\n",
    "clf = svm.SVR(kernel = 'rbf')\n",
    "clf.fit(X_train, y_train)\n",
    "\n",
    "accuracy = clf.score(X_test, y_test)\n",
    "print accuracy\n",
    "\n"
   ]
  },
  {
   "cell_type": "markdown",
   "metadata": {},
   "source": [
    "# we can see svm is giving bad performance"
   ]
  },
  {
   "cell_type": "code",
   "execution_count": 22,
   "metadata": {
    "collapsed": true
   },
   "outputs": [],
   "source": [
    "# fifth tutorial in machine learning with sentdex"
   ]
  },
  {
   "cell_type": "code",
   "execution_count": 23,
   "metadata": {
    "collapsed": false
   },
   "outputs": [
    {
     "name": "stdout",
     "output_type": "stream",
     "text": [
      "[[-1.50109373  2.30052361  0.22961732  4.36958434]\n",
      " [-1.48244071 -0.32162997  4.76410651  1.75515092]\n",
      " [-1.47989127  2.31526111 -0.79056961  1.2067173 ]\n",
      " ..., \n",
      " [ 2.5756662   0.13261658 -0.30069969 -0.53062376]\n",
      " [ 2.6143727  -0.66172689  0.63247098 -0.70531859]\n",
      " [ 2.63428556 -0.39312955  0.28503078 -0.7711329 ]]\n",
      "[[ 1.67501738  0.07256858  0.64640044 -0.64745742]\n",
      " [ 1.57755162  0.73785778  0.06238749 -0.52097065]\n",
      " [ 1.61761051 -0.18096268 -0.08149314 -0.68838426]\n",
      " ..., \n",
      " [ 2.5756662   0.13261658 -0.30069969 -0.53062376]\n",
      " [ 2.6143727  -0.66172689  0.63247098 -0.70531859]\n",
      " [ 2.63428556 -0.39312955  0.28503078 -0.7711329 ]]\n"
     ]
    }
   ],
   "source": [
    "X = X[:-forecast_out]\n",
    "X_latly = X[-forcast_out:]\n",
    "print X\n",
    "print X_latly"
   ]
  },
  {
   "cell_type": "code",
   "execution_count": 25,
   "metadata": {
    "collapsed": false
   },
   "outputs": [],
   "source": [
    "forecast_set = clf.predict(X_latly)\n",
    "# print forecast_set, accuracy\n",
    "\n",
    "import datetime\n",
    "from matplotlib import pyplot as plt\n",
    "from matplotlib import style\n",
    "style.use('ggplot')\n"
   ]
  },
  {
   "cell_type": "code",
   "execution_count": 34,
   "metadata": {
    "collapsed": false
   },
   "outputs": [
    {
     "data": {
      "image/png": "[encoded data removed]",
      "text/plain": [
       "<matplotlib.figure.Figure at 0x7f07df337a50>"
      ]
     },
     "metadata": {},
     "output_type": "display_data"
    }
   ],
   "source": [
    "df['Forecast'] = np.nan\n",
    "\n",
    "import time\n",
    "last_date = df.iloc[-1].name\n",
    "last_unix = time.mktime(last_date.timetuple())\n",
    "one_day = 86400\n",
    "next_unix = last_unix + one_day\n",
    "\n",
    "for i in forecast_set:\n",
    "    next_date = datetime.datetime.fromtimestamp(next_unix)\n",
    "    next_unix += one_day\n",
    "    df.loc[next_date] = [np.nan for _ in range(len(df.columns)-1)] + [i]\n",
    "\n",
    "df['Adj. Close'].plot()\n",
    "df['Forecast'].plot()\n",
    "plt.legend(loc=4)\n",
    "plt.xlabel('Date')\n",
    "plt.ylabel('Price')\n",
    "plt.show()"
   ]
  },
  {
   "cell_type": "code",
   "execution_count": 35,
   "metadata": {
    "collapsed": true
   },
   "outputs": [],
   "source": [
    "# 6th video of linear regression"
   ]
  },
  {
   "cell_type": "code",
   "execution_count": 36,
   "metadata": {
    "collapsed": true
   },
   "outputs": [],
   "source": [
    "# pickle is serialization of python object"
   ]
  },
  {
   "cell_type": "code",
   "execution_count": 38,
   "metadata": {
    "collapsed": false
   },
   "outputs": [
    {
     "name": "stdout",
     "output_type": "stream",
     "text": [
      "0.974292752213\n"
     ]
    }
   ],
   "source": [
    "import pickle\n",
    "\n",
    "clf = LinearRegression(n_jobs=-1)\n",
    "clf.fit(X_train, y_train)\n",
    "\n",
    "with open('linearregression.pickl','wb') as f:\n",
    "    pickle.dump(clf, f)\n",
    "\n",
    "pickle_in = open('linearregression.pickl','rb')\n",
    "clf = pickle.load(pickle_in)\n",
    "accuracy = clf.score(X_test,y_test)\n",
    "print accuracy"
   ]
  },
  {
   "cell_type": "code",
   "execution_count": 40,
   "metadata": {
    "collapsed": true
   },
   "outputs": [],
   "source": [
    "# you can scale linear regression very well\n",
    "# its 7th video and its about breaking down linear regression\n",
    "# it works with continous data\n",
    "# it also depends whether we can perform linear reg on the data\n",
    "\n",
    "# hw to we define the line is best fitting the data\n",
    "# let              y = mx + b \n",
    "\"\"\"\n",
    "    what m is : m is slope, b is y intercept\n",
    "    m = (mean(x)*mean(y) - mean(xy)) / (mean(x)^2 - mean(x^2))\n",
    "    b = mean(y) - m*mean(x)\n",
    "    \n",
    "\"\"\""
   ]
  },
  {
   "cell_type": "code",
   "execution_count": null,
   "metadata": {
    "collapsed": true
   },
   "outputs": [],
   "source": [
    "# video 8"
   ]
  },
  {
   "cell_type": "code",
   "execution_count": 70,
   "metadata": {
    "collapsed": false
   },
   "outputs": [
    {
     "data": {
      "image/png": "[encoded data removed]",
      "text/plain": [
       "<matplotlib.figure.Figure at 0x7f07ddf973d0>"
      ]
     },
     "metadata": {},
     "output_type": "display_data"
    },
    {
     "name": "stdout",
     "output_type": "stream",
     "text": [
      "0.485714285714 3.8\n"
     ]
    }
   ],
   "source": [
    "from statistics import mean\n",
    "import numpy as np\n",
    "import matplotlib.pyplot as plt\n",
    "\n",
    "xs = [1,2,3,4,5,6]\n",
    "ys = [5,4,5,6,6,7]\n",
    "\n",
    "plt.scatter(xs,ys,alpha=0.8)\n",
    "plt.show()\n",
    "\n",
    "# we need array not list\n",
    "\n",
    "xs = np.array([1,2,3,4,5,6], dtype=np.float64)\n",
    "ys = np.array([5,4,5,6,6,7], dtype=np.float64)\n",
    "\n",
    "def best_fit_slope_and_intercept(xs, ys):\n",
    "    m = ( (mean(xs)*mean(ys)) - mean(xs*ys) ) / ( mean(xs)**2 - mean(xs**2) )\n",
    "    \n",
    "    b = mean(ys) - m *(mean(xs))\n",
    "    return m, b\n",
    "\n",
    "m, b = best_fit_slope_and_intercept(xs, ys)\n",
    "\n",
    "print m, b\n"
   ]
  },
  {
   "cell_type": "code",
   "execution_count": 49,
   "metadata": {
    "collapsed": true
   },
   "outputs": [],
   "source": [
    "# video 9\n",
    "from matplotlib import style\n",
    "style.use('fivethirtyeight')"
   ]
  },
  {
   "cell_type": "code",
   "execution_count": 71,
   "metadata": {
    "collapsed": false
   },
   "outputs": [
    {
     "data": {
      "image/png": "[encoded data removed]",
      "text/plain": [
       "<matplotlib.figure.Figure at 0x7f07de0ccdd0>"
      ]
     },
     "metadata": {},
     "output_type": "display_data"
    }
   ],
   "source": [
    "regression_line = [(m*x + b) for x in xs]\n",
    "\n",
    "predict_x = 8\n",
    "predict_y = m*predict_x + b\n",
    "\n",
    "\n",
    "plt.scatter(xs, ys)\n",
    "plt.scatter(predict_x, predict_y, color='g')\n",
    "plt.plot(xs, regression_line)\n",
    "plt.show()"
   ]
  },
  {
   "cell_type": "code",
   "execution_count": 52,
   "metadata": {
    "collapsed": true
   },
   "outputs": [],
   "source": [
    "# now question is how accurate is this line ?\n",
    "# video 10"
   ]
  },
  {
   "cell_type": "code",
   "execution_count": 53,
   "metadata": {
    "collapsed": true
   },
   "outputs": [],
   "source": [
    "# we need to calculate squared error, which will tell how better fit is the line"
   ]
  },
  {
   "cell_type": "code",
   "execution_count": 54,
   "metadata": {
    "collapsed": true
   },
   "outputs": [],
   "source": [
    "# why error squared : we only want to face +ve line, but what if a point is a outlier, then penalize the outlier \n",
    "# more making square, you can penalize more with increasing power"
   ]
  },
  {
   "cell_type": "code",
   "execution_count": 56,
   "metadata": {
    "collapsed": true
   },
   "outputs": [],
   "source": [
    "# r^2 = 1 - (SE(y^)/SE(mean(y)))\n",
    "# 0.8 means  (SE(y^)/SE(mean(y))) should be 0.2 that mean SE(y^)=2 and SE(mean(y)) = 10\n",
    "# So high r^2 here mean we have a good fit line"
   ]
  },
  {
   "cell_type": "code",
   "execution_count": 83,
   "metadata": {
    "collapsed": false
   },
   "outputs": [
    {
     "name": "stdout",
     "output_type": "stream",
     "text": [
      "-0.354653396744\n"
     ]
    }
   ],
   "source": [
    "# video 11\n",
    "# lets calculate squred err\n",
    "# it is a calculation / there are more methods for accuracy\n",
    "\n",
    "def squared_err(ys_org, ys_line):\n",
    "    return sum( (ys_line - ys_org)**2 )\n",
    "\n",
    "def coefficient_of_determination(ys_orig, ys_line):\n",
    "    y_mean_line = [mean(ys_orig) for y in ys_orig]\n",
    "    squared_error_regr = squared_err(ys_orig, ys_line)\n",
    "    squared_error_y_mean = squared_err(ys_orig, y_mean_line)\n",
    "    return 1 - ( squared_error_regr / squared_error_y_mean)\n",
    "\n",
    "r_squared = coefficient_of_determination(ys, regression_line)\n",
    "print r_squared"
   ]
  },
  {
   "cell_type": "code",
   "execution_count": 61,
   "metadata": {
    "collapsed": true
   },
   "outputs": [],
   "source": [
    "# video 12\n",
    "# we will talk about testing our assumptions"
   ]
  },
  {
   "cell_type": "code",
   "execution_count": 87,
   "metadata": {
    "collapsed": false
   },
   "outputs": [],
   "source": [
    "import random\n",
    "\n",
    "def create_dataset(hm,variance,step=2,correlation=False):\n",
    "    val = 1\n",
    "    ys = []\n",
    "    for i in range(hm):\n",
    "        y = val + random.randrange(-variance,variance)\n",
    "        ys.append(y)\n",
    "        if correlation and correlation == 'pos':\n",
    "            val+=step\n",
    "        elif correlation and correlation == 'neg':\n",
    "            val-=step\n",
    "\n",
    "    xs = [i for i in range(len(ys))]\n",
    "    \n",
    "    return np.array(xs, dtype=np.float64),np.array(ys,dtype=np.float64)\n",
    "\n",
    "xs, ys = create_dataset(40,40,2,correlation='pos')\n"
   ]
  },
  {
   "cell_type": "code",
   "execution_count": 91,
   "metadata": {
    "collapsed": false
   },
   "outputs": [
    {
     "name": "stdout",
     "output_type": "stream",
     "text": [
      "2.28583489681 -5.4987804878\n",
      "18603.3055347\n",
      "46452.775\n"
     ]
    },
    {
     "data": {
      "image/png": "[encoded data removed]",
      "text/plain": [
       "<matplotlib.figure.Figure at 0x7f07ddf69a10>"
      ]
     },
     "metadata": {},
     "output_type": "display_data"
    }
   ],
   "source": [
    "m, b = best_fit_slope_and_intercept(xs, ys)\n",
    "\n",
    "print m, b\n",
    "regression_line = [(m*x + b) for x in xs]\n",
    "\n",
    "r_squared = coefficient_of_determination(ys, regression_line)\n",
    "# print r_squared\n",
    "\n",
    "predict_x = 8\n",
    "predict_y = m*predict_x + b\n",
    "\n",
    "\n",
    "\n",
    "plt.scatter(xs, ys)\n",
    "plt.scatter(predict_x, predict_y, color='g')\n",
    "plt.plot(xs, regression_line)\n",
    "plt.show()"
   ]
  },
  {
   "cell_type": "code",
   "execution_count": null,
   "metadata": {
    "collapsed": true
   },
   "outputs": [],
   "source": []
  },
  {
   "cell_type": "code",
   "execution_count": null,
   "metadata": {
    "collapsed": true
   },
   "outputs": [],
   "source": []
  },
  {
   "cell_type": "code",
   "execution_count": null,
   "metadata": {
    "collapsed": true
   },
   "outputs": [],
   "source": []
  }
 ],
 "metadata": {
  "kernelspec": {
   "display_name": "Python 2",
   "language": "python",
   "name": "python2"
  },
  "language_info": {
   "codemirror_mode": {
    "name": "ipython",
    "version": 2
   },
   "file_extension": ".py",
   "mimetype": "text/x-python",
   "name": "python",
   "nbconvert_exporter": "python",
   "pygments_lexer": "ipython2",
   "version": "2.7.13"
  }
 },
 "nbformat": 4,
 "nbformat_minor": 2
}
